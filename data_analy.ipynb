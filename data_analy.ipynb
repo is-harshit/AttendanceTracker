{
 "cells": [
  {
   "cell_type": "code",
   "execution_count": 1,
   "metadata": {
    "collapsed": true
   },
   "outputs": [],
   "source": [
    "import sqlite3 as lite\n",
    "import pandas as pd"
   ]
  },
  {
   "cell_type": "code",
   "execution_count": 6,
   "outputs": [
    {
     "name": "stdout",
     "output_type": "stream",
     "text": [
      "    type                name            tbl_name  rootpage  \\\n",
      "0  table  Attendence_28_9_23  Attendence_28_9_23         2   \n",
      "\n",
      "                                                 sql  \n",
      "0  CREATE TABLE \"Attendence_28_9_23\" (\\n\"Sl No:\" ...  \n"
     ]
    },
    {
     "ename": "OperationalError",
     "evalue": "no such table: Attendence_test",
     "output_type": "error",
     "traceback": [
      "\u001B[1;31m---------------------------------------------------------------------------\u001B[0m",
      "\u001B[1;31mOperationalError\u001B[0m                          Traceback (most recent call last)",
      "Cell \u001B[1;32mIn[6], line 7\u001B[0m\n\u001B[0;32m      2\u001B[0m     \u001B[38;5;28mprint\u001B[39m(pd\u001B[38;5;241m.\u001B[39mread_sql(\u001B[38;5;124m\"\u001B[39m\u001B[38;5;124mSelect * from sqlite_master\u001B[39m\u001B[38;5;124m\"\u001B[39m,con))\n\u001B[0;32m      3\u001B[0m     \u001B[38;5;66;03m# con.execute(\"DRop table Attendence_28_9_23;\")\u001B[39;00m\n\u001B[0;32m      4\u001B[0m     \u001B[38;5;66;03m# ddf=pd.read_sql(\"Select * from Attendence_27_9_23 where usn like ('%63')\",con)\u001B[39;00m\n\u001B[0;32m      5\u001B[0m     \u001B[38;5;66;03m# ddf=pd.read_sql(\"Select * from Attendence_28_9_23\",con)\u001B[39;00m\n\u001B[0;32m      6\u001B[0m     \u001B[38;5;66;03m# print(ddf)\u001B[39;00m\n\u001B[1;32m----> 7\u001B[0m     \u001B[43mcon\u001B[49m\u001B[38;5;241;43m.\u001B[39;49m\u001B[43mexecute\u001B[49m\u001B[43m(\u001B[49m\u001B[38;5;124;43m\"\u001B[39;49m\u001B[38;5;124;43mDROP Table Attendence_test\u001B[39;49m\u001B[38;5;124;43m\"\u001B[39;49m\u001B[43m)\u001B[49m\n\u001B[0;32m      8\u001B[0m     con\u001B[38;5;241m.\u001B[39mcommit()\n\u001B[0;32m      9\u001B[0m \u001B[38;5;66;03m# ddf\u001B[39;00m\n",
      "\u001B[1;31mOperationalError\u001B[0m: no such table: Attendence_test"
     ]
    }
   ],
   "source": [
    "with lite.connect(\"Attend.sqlite\") as con:\n",
    "    print(pd.read_sql(\"Select * from sqlite_master\",con))\n",
    "    # con.execute(\"DRop table Attendence_28_9_23;\")\n",
    "    # ddf=pd.read_sql(\"Select * from Attendence_27_9_23 where usn like ('%63')\",con)\n",
    "    # ddf=pd.read_sql(\"Select * from Attendence_28_9_23\",con)\n",
    "    # print(ddf)\n",
    "    # con.execute(\"DROP Table Attendence_test\")\n",
    "    con.commit()\n",
    "# ddf"
   ],
   "metadata": {
    "collapsed": false
   }
  },
  {
   "cell_type": "code",
   "execution_count": 3,
   "outputs": [
    {
     "data": {
      "text/plain": "    Sl No:           USN               Name  Attendence\n0        1  1RVU22BSC008    Alaric Sequeira           0\n1        2  1RVU22BSC027         Dharshan V           0\n2        3  1RVU22BSC028    Divya jnanakshi           0\n3        4  1RVU22BSC035   Hussaina Mustafa           0\n4        5  1RVU22BSC044       Kishor Desai           0\n..     ...           ...                ...         ...\n86      87  1RVU22CSE179    Tanisha Ibrahim           0\n87      88  1RVU22CSE184        Varnita S R           0\n88      89  1RVU22CSE185           Varsha C           0\n89      90  1RVU22CSE192  Vismitha Priyanka           0\n90      91  1RVU22CSE193      Yashwanth b u           0\n\n[91 rows x 4 columns]",
      "text/html": "<div>\n<style scoped>\n    .dataframe tbody tr th:only-of-type {\n        vertical-align: middle;\n    }\n\n    .dataframe tbody tr th {\n        vertical-align: top;\n    }\n\n    .dataframe thead th {\n        text-align: right;\n    }\n</style>\n<table border=\"1\" class=\"dataframe\">\n  <thead>\n    <tr style=\"text-align: right;\">\n      <th></th>\n      <th>Sl No:</th>\n      <th>USN</th>\n      <th>Name</th>\n      <th>Attendence</th>\n    </tr>\n  </thead>\n  <tbody>\n    <tr>\n      <th>0</th>\n      <td>1</td>\n      <td>1RVU22BSC008</td>\n      <td>Alaric Sequeira</td>\n      <td>0</td>\n    </tr>\n    <tr>\n      <th>1</th>\n      <td>2</td>\n      <td>1RVU22BSC027</td>\n      <td>Dharshan V</td>\n      <td>0</td>\n    </tr>\n    <tr>\n      <th>2</th>\n      <td>3</td>\n      <td>1RVU22BSC028</td>\n      <td>Divya jnanakshi</td>\n      <td>0</td>\n    </tr>\n    <tr>\n      <th>3</th>\n      <td>4</td>\n      <td>1RVU22BSC035</td>\n      <td>Hussaina Mustafa</td>\n      <td>0</td>\n    </tr>\n    <tr>\n      <th>4</th>\n      <td>5</td>\n      <td>1RVU22BSC044</td>\n      <td>Kishor Desai</td>\n      <td>0</td>\n    </tr>\n    <tr>\n      <th>...</th>\n      <td>...</td>\n      <td>...</td>\n      <td>...</td>\n      <td>...</td>\n    </tr>\n    <tr>\n      <th>86</th>\n      <td>87</td>\n      <td>1RVU22CSE179</td>\n      <td>Tanisha Ibrahim</td>\n      <td>0</td>\n    </tr>\n    <tr>\n      <th>87</th>\n      <td>88</td>\n      <td>1RVU22CSE184</td>\n      <td>Varnita S R</td>\n      <td>0</td>\n    </tr>\n    <tr>\n      <th>88</th>\n      <td>89</td>\n      <td>1RVU22CSE185</td>\n      <td>Varsha C</td>\n      <td>0</td>\n    </tr>\n    <tr>\n      <th>89</th>\n      <td>90</td>\n      <td>1RVU22CSE192</td>\n      <td>Vismitha Priyanka</td>\n      <td>0</td>\n    </tr>\n    <tr>\n      <th>90</th>\n      <td>91</td>\n      <td>1RVU22CSE193</td>\n      <td>Yashwanth b u</td>\n      <td>0</td>\n    </tr>\n  </tbody>\n</table>\n<p>91 rows × 4 columns</p>\n</div>"
     },
     "execution_count": 3,
     "metadata": {},
     "output_type": "execute_result"
    }
   ],
   "source": [
    "pd.read_excel(\"Attendence_script.xlsx\")"
   ],
   "metadata": {
    "collapsed": false
   }
  },
  {
   "cell_type": "code",
   "execution_count": null,
   "outputs": [],
   "source": [],
   "metadata": {
    "collapsed": false
   }
  }
 ],
 "metadata": {
  "kernelspec": {
   "display_name": "Python 3",
   "language": "python",
   "name": "python3"
  },
  "language_info": {
   "codemirror_mode": {
    "name": "ipython",
    "version": 2
   },
   "file_extension": ".py",
   "mimetype": "text/x-python",
   "name": "python",
   "nbconvert_exporter": "python",
   "pygments_lexer": "ipython2",
   "version": "2.7.6"
  }
 },
 "nbformat": 4,
 "nbformat_minor": 0
}
